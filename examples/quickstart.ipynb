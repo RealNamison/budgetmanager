{
  "nbformat": 4,
  "nbformat_minor": 5,
  "metadata": {
    "kernelspec": {
      "name": "python3",
      "display_name": "Python 3"
    },
    "language_info": {
      "name": "python",
      "version": "3.10"
    }
  },
  "cells": [
    {
      "cell_type": "markdown",
      "metadata": {},
      "source": [
        "# Quickstart\n",
        "\n",
        "In this quickstart notebook, we'll show how to programmatically use **BudgetManager** to add transactions, check the balance, and generate reports."
      ]
    },
    {
      "cell_type": "code",
      "metadata": {},
      "execution_count": null,
      "source": [
        "# Required imports\n",
        "from decimal import Decimal\n",
        "from pathlib import Path\n",
        "\n",
        "from budgetmanager.core.ledger import Ledger\n",
        "from budgetmanager.core.transaction import Transaction\n",
        "from budgetmanager.utils.timestamp import Timestamp\n",
        "from budgetmanager.core.report import ReportGenerator"
      ],
      "outputs": []
    },
    {
      "cell_type": "markdown",
      "metadata": {},
      "source": [
        "## Create a new ledger and add transactions"
      ]
    },
    {
      "cell_type": "code",
      "metadata": {},
      "execution_count": null,
      "source": [
        "# Create an empty ledger\n",
        "ledger = Ledger()\n",
        "\n",
        "# Create two example transactions\n",
        "tx1 = Transaction(\n",
        "    timestamp=Timestamp.now(),\n",
        "    category=\"groceries\",\n",
        "    amount=Decimal(\"-25.50\"),\n",
        "    description=\"Lunch\"\n",
        ")\n",
        "tx2 = Transaction(\n",
        "    timestamp=Timestamp.from_components(2025, 5, 15, 12, 30, 0),\n",
        "    category=\"salary\",\n",
        "    amount=Decimal(\"2500.00\"),\n",
        "    description=\"Monthly salary\"\n",
        ")\n",
        "\n",
        "# Add the transactions to the ledger\n",
        "ledger.add_transaction(tx1)\n",
        "ledger.add_transaction(tx2)\n",
        "\n",
        "ledger  # Display the ledger object"
      ],
      "outputs": []
    },
    {
      "cell_type": "markdown",
      "metadata": {},
      "source": [
        "## Display balance, income, and expenses"
      ]
    },
    {
      "cell_type": "code",
      "metadata": {},
      "execution_count": null,
      "source": [
        "balance = ledger.get_balance()\n",
        "income = ledger.total_income()\n",
        "expenses = ledger.total_expenses()\n",
        "\n",
        "print(f\"Balance:  {balance}\")\n",
        "print(f\"Income:   {income}\")\n",
        "print(f\"Expenses: {expenses}\")"
      ],
      "outputs": []
    },
    {
      "cell_type": "markdown",
      "metadata": {},
      "source": [
        "## Generate monthly summary"
      ]
    },
    {
      "cell_type": "code",
      "metadata": {},
      "execution_count": null,
      "source": [
        "# Monthly report for May 2025\n",
        "summary = ReportGenerator.monthly_summary(ledger, 2025, 5)\n",
        "summary"
      ],
      "outputs": []
    },
    {
      "cell_type": "markdown",
      "metadata": {},
      "source": [
        "## Export report as CSV"
      ]
    },
    {
      "cell_type": "code",
      "metadata": {},
      "execution_count": null,
      "source": [
        "output_path = Path(\"data/processed/summary_2025-05.csv\")\n",
        "exported = ReportGenerator.export_to_csv(summary, output_path)\n",
        "print(f\"CSV exported to: {exported}\")"
      ],
      "outputs": []
    },
    {
      "cell_type": "markdown",
      "metadata": {},
      "source": [
        "## Alternative: CLI commands directly in the notebook"
      ]
    },
    {
      "cell_type": "code",
      "metadata": {},
      "execution_count": null,
      "source": [
        "%%bash\n",
        "# Add a transaction\n",
        "budgetmgr add -c groceries -a -25.50 -d \"Lunch\"\n",
        "\n",
        "# List all transactions\n",
        "budgetmgr list\n",
        "\n",
        "# Show balance\n",
        "budgetmgr balance\n",
        "\n",
        "# Monthly summary for May 2025\n",
        "budgetmgr summary -y 2025 -m 5"
      ],
      "outputs": []
    }
  ]
}
