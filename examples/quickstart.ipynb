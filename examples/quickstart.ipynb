{
  "cells": [
    {
      "cell_type": "markdown",
      "metadata": {},
      "source": [
        "# Quickstart Guide\n",
        "\n",
        "This notebook demonstrates the basic usage of BudgetManager using the command-line interface (CLI). Ensure that you have BudgetManager installed and accessible via the `budgetmgr` command. Replace `budgetmgr` with the appropriate path if it's not in your `PATH`."
      ]
    },
    {
      "cell_type": "markdown",
      "metadata": {},
      "source": [
        "## 1. Add Transactions\n",
        "\n",
        "Let's add a few sample transactions:\n"
      ]
    },
    {
      "cell_type": "code",
      "execution_count": null,
      "metadata": {},
      "outputs": [],
      "source": [
        "!budgetmgr add -c salary -a 5000.00 -d \"June salary\"\n",
        "!budgetmgr add -c groceries -a -150.00 -d \"Weekly groceries\"\n",
        "!budgetmgr add -c utilities -a -200.00 -d \"Electricity bill\"\n"
      ]
    },
    {
      "cell_type": "markdown",
      "metadata": {},
      "source": [
        "## 2. List Transactions\n",
        "\n",
        "View all transactions (most recent first):"
      ]
    },
    {
      "cell_type": "code",
      "execution_count": null,
      "metadata": {},
      "outputs": [],
      "source": [
        "!budgetmgr list\n"
      ]
    },
    {
      "cell_type": "markdown",
      "metadata": {},
      "source": [
        "## 3. Show Balance\n",
        "\n",
        "Display the total income, total expenses, and net balance:"
      ]
    },
    {
      "cell_type": "code",
      "execution_count": null,
      "metadata": {},
      "outputs": [],
      "source": [
        "!budgetmgr balance\n"
      ]
    },
    {
      "cell_type": "markdown",
      "metadata": {},
      "source": [
        "## 4. Generate Monthly Summary\n",
        "\n",
        "Generate a summary for June 2025:"
      ]
    },
    {
      "cell_type": "code",
      "execution_count": null,
      "metadata": {},
      "outputs": [],
      "source": [
        "!budgetmgr summary --year 2025 --month 6\n"
      ]
    },
    {
      "cell_type": "markdown",
      "metadata": {},
      "source": [
        "## 5. Export Summary to CSV\n",
        "\n",
        "Export the June 2025 summary to a CSV file:"
      ]
    },
    {
      "cell_type": "code",
      "execution_count": null,
      "metadata": {},
      "outputs": [],
      "source": [
        "!budgetmgr summary --year 2025 --month 6 --export csv\n",
        "!ls data/processed/summary_2025-06.csv\n"
      ]
    },
    {
      "cell_type": "markdown",
      "metadata": {},
      "source": [
        "## 6. Generate Charts\n",
        "\n",
        "Generate a PNG chart for transactions in June 2025:"
      ]
    },
    {
      "cell_type": "code",
      "execution_count": null,
      "metadata": {},
      "outputs": [],
      "source": [
        "!budgetmgr chart --start 2025-06-01 --end 2025-06-30 --png\n",
        "!ls data/processed/charts\n"
      ]
    }
  ],
  "metadata": {
    "kernelspec": {
      "display_name": "Python 3",
      "language": "python",
      "name": "python3"
    },
    "language_info": {
      "name": "python",
      "version": "3.10"
    }
  },
  "nbformat": 4,
  "nbformat_minor": 5
}